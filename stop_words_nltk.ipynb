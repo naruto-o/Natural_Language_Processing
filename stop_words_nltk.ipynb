{
  "nbformat": 4,
  "nbformat_minor": 0,
  "metadata": {
    "colab": {
      "provenance": []
    },
    "kernelspec": {
      "name": "python3",
      "display_name": "Python 3"
    },
    "language_info": {
      "name": "python"
    }
  },
  "cells": [
    {
      "cell_type": "code",
      "source": [
        "pip install nltk\n"
      ],
      "metadata": {
        "colab": {
          "base_uri": "https://localhost:8080/"
        },
        "id": "IFCPdvxMjkkM",
        "outputId": "9f678e75-524b-49cd-8b77-50e74b9e0ef6"
      },
      "execution_count": 5,
      "outputs": [
        {
          "output_type": "stream",
          "name": "stdout",
          "text": [
            "Looking in indexes: https://pypi.org/simple, https://us-python.pkg.dev/colab-wheels/public/simple/\n",
            "Requirement already satisfied: nltk in /usr/local/lib/python3.7/dist-packages (3.7)\n",
            "Requirement already satisfied: tqdm in /usr/local/lib/python3.7/dist-packages (from nltk) (4.64.1)\n",
            "Requirement already satisfied: regex>=2021.8.3 in /usr/local/lib/python3.7/dist-packages (from nltk) (2022.6.2)\n",
            "Requirement already satisfied: joblib in /usr/local/lib/python3.7/dist-packages (from nltk) (1.1.0)\n",
            "Requirement already satisfied: click in /usr/local/lib/python3.7/dist-packages (from nltk) (7.1.2)\n"
          ]
        }
      ]
    },
    {
      "cell_type": "code",
      "source": [
        "import nltk\n",
        "# nltk.download('stopwords')\n",
        "# nltk.download('all')\n",
        "from nltk.corpus import stopwords\n",
        "from nltk.tokenize import word_tokenize\n",
        "stop_words = set(stopwords.words(\"english\"))\n",
        "text = \"Hello Mr.Smith,how are you? This is GLA university. we are studying NATURAL LANGUAGE PROCESSING\"\n",
        "words = word_tokenize(text)\n",
        "filtered_sentence = []\n",
        "for w in words:\n",
        "  if w not in stop_words:\n",
        "    filtered_sentence.append(w)\n",
        "print(filtered_sentence)    \n",
        "# print(stop_words)\n"
      ],
      "metadata": {
        "colab": {
          "base_uri": "https://localhost:8080/"
        },
        "id": "6SYiY22Bjs4G",
        "outputId": "8261d1ef-902c-4155-f4b1-da837bb07cf2"
      },
      "execution_count": 17,
      "outputs": [
        {
          "output_type": "stream",
          "name": "stdout",
          "text": [
            "['Hello', 'Mr.Smith', ',', '?', 'This', 'GLA', 'university', '.', 'studying', 'NATURAL', 'LANGUAGE', 'PROCESSING']\n"
          ]
        }
      ]
    },
    {
      "cell_type": "code",
      "source": [
        "# STEMMING\n",
        "# i was taking ride in a car\n",
        "# i was riding  in a car\n",
        "from nltk.stem import PorterStemmer\n",
        "from nltk.tokenize import word_tokenize\n",
        "ps = PorterStemmer()\n",
        "example_words = ['python','pythoner','pythoning','pythoned','pythonly']\n",
        "for w in  example_words:\n",
        "    print(ps.stem(w))"
      ],
      "metadata": {
        "colab": {
          "base_uri": "https://localhost:8080/"
        },
        "id": "0JepKKQSma6N",
        "outputId": "74f7c761-8c22-4534-905f-a4f27b0a6ff5"
      },
      "execution_count": 20,
      "outputs": [
        {
          "output_type": "stream",
          "name": "stdout",
          "text": [
            "python\n",
            "python\n",
            "python\n",
            "python\n",
            "pythonli\n"
          ]
        }
      ]
    },
    {
      "cell_type": "code",
      "source": [
        "# LANCASTER STEMMER \n",
        "# SNOWBALL"
      ],
      "metadata": {
        "id": "t7iFjwhdnqSM"
      },
      "execution_count": null,
      "outputs": []
    },
    {
      "cell_type": "code",
      "source": [
        "from nltk.stem import SnowballStemmer\n",
        "sst = SnowballStemmer(\"english\")\n",
        "wordstostem=[\"give\",\"given\",\"giving\",\"gave\"]\n",
        "for words in wordstostem:\n",
        "  print(words+\":---->>\"+sst.stem(words))"
      ],
      "metadata": {
        "colab": {
          "base_uri": "https://localhost:8080/"
        },
        "id": "HyyqPSUynvkc",
        "outputId": "89778d11-b51c-4c07-fd96-71606c639e1a"
      },
      "execution_count": 22,
      "outputs": [
        {
          "output_type": "stream",
          "name": "stdout",
          "text": [
            "give:---->>give\n",
            "given:---->>given\n",
            "giving:---->>give\n",
            "gave:---->>gave\n"
          ]
        }
      ]
    },
    {
      "cell_type": "code",
      "source": [],
      "metadata": {
        "id": "tUtL7ozykEuD"
      },
      "execution_count": null,
      "outputs": []
    }
  ]
}