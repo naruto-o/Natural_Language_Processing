{
  "nbformat": 4,
  "nbformat_minor": 0,
  "metadata": {
    "colab": {
      "provenance": [],
      "collapsed_sections": []
    },
    "kernelspec": {
      "name": "python3",
      "display_name": "Python 3"
    },
    "language_info": {
      "name": "python"
    }
  },
  "cells": [
    {
      "cell_type": "code",
      "source": [
        "import os \n",
        "import nltk.corpus\n",
        "print(os.listdir(nltk.data.find(\"corpora\")))\n",
        "from nltk.corpus import brown\n",
        "w = brown.words()\n",
        "for i in w[:500]:\n",
        "  print(i,end = \" \")"
      ],
      "metadata": {
        "colab": {
          "base_uri": "https://localhost:8080/"
        },
        "id": "m4M7oUkuOwfv",
        "outputId": "2fc5a117-65e5-4d2a-bcbc-4ff77a016992"
      },
      "execution_count": null,
      "outputs": [
        {
          "output_type": "stream",
          "name": "stdout",
          "text": [
            "['comparative_sentences', 'udhr.zip', 'timit', 'ycoe', 'sentence_polarity.zip', 'semcor.zip', 'city_database', 'inaugural.zip', 'ptb.zip', 'europarl_raw.zip', 'pil.zip', 'opinion_lexicon.zip', 'pe08.zip', 'propbank.zip', 'floresta', 'product_reviews_2.zip', 'subjectivity.zip', 'framenet_v15', 'senseval', 'ieer', 'conll2000', 'sentiwordnet', 'problem_reports.zip', 'masc_tagged.zip', 'indian', 'cmudict.zip', 'ppattach.zip', 'twitter_samples', 'ycoe.zip', 'pil', 'pl196x.zip', 'sinica_treebank.zip', 'cmudict', 'europarl_raw', 'rte.zip', 'omw-1.4.zip', 'udhr2.zip', 'crubadan', 'product_reviews_1.zip', 'framenet_v15.zip', 'shakespeare.zip', 'chat80.zip', 'dependency_treebank', 'wordnet_ic.zip', 'mac_morpho.zip', 'wordnet_ic', 'cess_cat.zip', 'lin_thesaurus', 'ptb', 'gazetteers', 'genesis', 'qc.zip', 'verbnet3.zip', 'udhr', 'nonbreaking_prefixes.zip', 'toolbox.zip', 'conll2007.zip', 'cess_esp', 'unicode_samples.zip', 'inaugural', 'toolbox', 'paradigms.zip', 'state_union.zip', 'nps_chat', 'conll2000.zip', 'alpino', 'chat80', 'shakespeare', 'brown_tei', 'swadesh', 'mac_morpho', 'ieer.zip', 'wordnet.zip', 'alpino.zip', 'smultron.zip', 'comtrans.zip', 'cess_esp.zip', 'movie_reviews', 'nonbreaking_prefixes', 'abc', 'city_database.zip', 'extended_omw.zip', 'wordnet2021.zip', 'sentence_polarity', 'floresta.zip', 'ppattach', 'kimmo', 'qc', 'product_reviews_2', 'names', 'conll2002.zip', 'dolch', 'lin_thesaurus.zip', 'paradigms', 'machado.zip', 'subjectivity', 'mte_teip5.zip', 'gazetteers.zip', 'pe08', 'brown', 'biocreative_ppi.zip', 'gutenberg', 'framenet_v17.zip', 'brown_tei.zip', 'words', 'swadesh.zip', 'unicode_samples', 'conll2002', 'gutenberg.zip', 'switchboard', 'reuters.zip', 'universal_treebanks_v20.zip', 'pl196x', 'dolch.zip', 'crubadan.zip', 'treebank.zip', 'stopwords.zip', 'switchboard.zip', 'names.zip', 'nombank.1.0.zip', 'senseval.zip', 'problem_reports', 'knbc.zip', 'state_union', 'webtext.zip', 'jeita.zip', 'omw.zip', 'sinica_treebank', 'pros_cons', 'comparative_sentences.zip', 'treebank', 'verbnet3', 'rte', 'udhr2', 'verbnet.zip', 'dependency_treebank.zip', 'product_reviews_1', 'abc.zip', 'kimmo.zip', 'panlex_swadesh.zip', 'pros_cons.zip', 'biocreative_ppi', 'stopwords', 'cess_cat', 'brown.zip', 'opinion_lexicon', 'indian.zip', 'movie_reviews.zip', 'webtext', 'timit.zip', 'genesis.zip', 'verbnet', 'framenet_v17', 'words.zip', 'sentiwordnet.zip', 'twitter_samples.zip', 'nps_chat.zip', 'smultron', 'mte_teip5', 'wordnet31.zip']\n",
            "The Fulton County Grand Jury said Friday an investigation of Atlanta's recent primary election produced `` no evidence '' that any irregularities took place . The jury further said in term-end presentments that the City Executive Committee , which had over-all charge of the election , `` deserves the praise and thanks of the City of Atlanta '' for the manner in which the election was conducted . The September-October term jury had been charged by Fulton Superior Court Judge Durwood Pye to investigate reports of possible `` irregularities '' in the hard-fought primary which was won by Mayor-nominate Ivan Allen Jr. . `` Only a relative handful of such reports was received '' , the jury said , `` considering the widespread interest in the election , the number of voters and the size of this city '' . The jury said it did find that many of Georgia's registration and election laws `` are outmoded or inadequate and often ambiguous '' . It recommended that Fulton legislators act `` to have these laws studied and revised to the end of modernizing and improving them '' . The grand jury commented on a number of other topics , among them the Atlanta and Fulton County purchasing departments which it said `` are well operated and follow generally accepted practices which inure to the best interest of both governments '' . Merger proposed However , the jury said it believes `` these two offices should be combined to achieve greater efficiency and reduce the cost of administration '' . The City Purchasing Department , the jury said , `` is lacking in experienced clerical personnel as a result of city personnel policies '' . It urged that the city `` take steps to remedy '' this problem . Implementation of Georgia's automobile title law was also recommended by the outgoing jury . It urged that the next Legislature `` provide enabling funds and re-set the effective date so that an orderly implementation of the law may be effected '' . The grand jury took a swipe at the State Welfare Department's handling of federal funds granted for child welfare services in foster homes . `` This is one of the major items in the Fulton County general assistance program '' , the jury said , but the State Welfare Department `` has seen fit to distribute these funds through the welfare departments of all the counties in the state with the exception of Fulton County , which receives none of this money . The jurors said they realize `` a proportionate distribution of these funds might disable this program in our less populous counties '' . Nevertheless , `` we feel that in the future Fulton County should receive some portion of these available funds '' , the jurors said . `` Failure to do this will continue to place a disproportionate burden '' on Fulton taxpayers . The jury also commented on the Fulton ordinary's court which has been "
          ]
        }
      ]
    },
    {
      "cell_type": "code",
      "source": [
        "from nltk.corpus import gutenberg\n",
        "print(gutenberg.fileids())"
      ],
      "metadata": {
        "colab": {
          "base_uri": "https://localhost:8080/"
        },
        "id": "QTsbKrYgTQ6_",
        "outputId": "2f8f21c1-fb27-44eb-8512-f2e49e7b1ffd"
      },
      "execution_count": null,
      "outputs": [
        {
          "output_type": "stream",
          "name": "stdout",
          "text": [
            "['austen-emma.txt', 'austen-persuasion.txt', 'austen-sense.txt', 'bible-kjv.txt', 'blake-poems.txt', 'bryant-stories.txt', 'burgess-busterbrown.txt', 'carroll-alice.txt', 'chesterton-ball.txt', 'chesterton-brown.txt', 'chesterton-thursday.txt', 'edgeworth-parents.txt', 'melville-moby_dick.txt', 'milton-paradise.txt', 'shakespeare-caesar.txt', 'shakespeare-hamlet.txt', 'shakespeare-macbeth.txt', 'whitman-leaves.txt']\n"
          ]
        }
      ]
    }
  ]
}