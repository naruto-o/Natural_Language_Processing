{
  "nbformat": 4,
  "nbformat_minor": 0,
  "metadata": {
    "colab": {
      "provenance": [],
      "collapsed_sections": []
    },
    "kernelspec": {
      "name": "python3",
      "display_name": "Python 3"
    },
    "language_info": {
      "name": "python"
    }
  },
  "cells": [
    {
      "cell_type": "code",
      "source": [
        "pip install nltk"
      ],
      "metadata": {
        "id": "lugK6Dq5Auoz"
      },
      "execution_count": null,
      "outputs": []
    },
    {
      "cell_type": "code",
      "source": [
        "import nltk"
      ],
      "metadata": {
        "id": "YR9mflSvAyDQ"
      },
      "execution_count": null,
      "outputs": []
    },
    {
      "cell_type": "code",
      "source": [
        "nltk.download(\"all\")"
      ],
      "metadata": {
        "id": "CWZcdXAyA4KS"
      },
      "execution_count": null,
      "outputs": []
    },
    {
      "cell_type": "code",
      "execution_count": 1,
      "metadata": {
        "colab": {
          "base_uri": "https://localhost:8080/"
        },
        "id": "9TVi124I3bXW",
        "outputId": "766c8bcd-ecdb-420f-e3f0-49b8657b8b65"
      },
      "outputs": [
        {
          "output_type": "stream",
          "name": "stdout",
          "text": [
            "studi\n"
          ]
        }
      ],
      "source": [
        "from nltk.stem import PorterStemmer\n",
        "stemmer =  PorterStemmer()\n",
        "print(stemmer.stem('studies'))"
      ]
    },
    {
      "cell_type": "code",
      "source": [
        "from nltk.stem import WordNetLemmatizer\n",
        "lemmatizer = WordNetLemmatizer()\n",
        "print(lemmatizer.lemmatize('studies'))\n"
      ],
      "metadata": {
        "id": "GZ35uGJY5w2S"
      },
      "execution_count": null,
      "outputs": []
    },
    {
      "cell_type": "code",
      "source": [
        "from nltk import WordNetLemmatizer\n",
        "\n",
        "lemma = WordNetLemmatizer()\n",
        "word_list = [\"Study\",\"Studying\",\"Studies\",\"Studied\"]\n",
        "\n",
        "for w in word_list:\n",
        "    print(lemma.lemmatize(w,pos=\"v\"))"
      ],
      "metadata": {
        "id": "5OE3rM2w6BZH"
      },
      "execution_count": null,
      "outputs": []
    },
    {
      "cell_type": "code",
      "source": [
        "from nltk import WordNetLemmatizer\n",
        "\n",
        "lemma   = WordNetLemmatizer()\n",
        "word_list = [\"studies\",\"leaves\",\"decreases\",\"plays\"]\n",
        "\n",
        "for w in word_list:\n",
        "    print(lemma.lemmatize(w))"
      ],
      "metadata": {
        "id": "yqmVkKMM8J3c"
      },
      "execution_count": null,
      "outputs": []
    },
    {
      "cell_type": "code",
      "source": [
        "from nltk import WordNetLemmatizer\n",
        "\n",
        "lemma = WordNetLemmatizer()\n",
        "word_list = [\"am\",\"is\",\"are\",\"was\",\"were\"]\n",
        "\n",
        "for w in word_list:\n",
        "    print(lemma.lemmatize(w,pos=\"v\"))\n",
        "    "
      ],
      "metadata": {
        "id": "QkFTwROC9tJC"
      },
      "execution_count": null,
      "outputs": []
    },
    {
      "cell_type": "code",
      "source": [
        "from nltk.stem import WordNetLemmatizer\n",
        "\n",
        "lemmatizer = WordNetLemmatizer()\n",
        "print(lemmatizer.lemmatize('studying',pos=\"v\"))\n",
        "print(lemmatizer.lemmatize('studying',pos=\"n\"))\n",
        "print(lemmatizer.lemmatize('studying',pos=\"a\"))\n",
        "print(lemmatizer.lemmatize('studying',pos=\"r\"))\n"
      ],
      "metadata": {
        "id": "r62UJNmv-WOW"
      },
      "execution_count": null,
      "outputs": []
    },
    {
      "cell_type": "code",
      "source": [],
      "metadata": {
        "id": "wIBskO65_XdO"
      },
      "execution_count": null,
      "outputs": []
    }
  ]
}